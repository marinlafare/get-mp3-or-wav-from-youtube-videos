{
 "cells": [
  {
   "cell_type": "code",
   "execution_count": 1,
   "id": "dfc15eac-af6e-46b7-a91a-69177cf6343b",
   "metadata": {},
   "outputs": [],
   "source": [
    "import os\n",
    "import ffmpeg\n",
    "import string\n",
    "from pytube import YouTube"
   ]
  },
  {
   "cell_type": "code",
   "execution_count": 2,
   "id": "c8ecfc8d-2b6d-4f86-a3a8-f2fd46b44e4f",
   "metadata": {},
   "outputs": [],
   "source": [
    "from download_videos import get_video\n",
    "from remove_audio import convert_video_to_audio"
   ]
  },
  {
   "cell_type": "code",
   "execution_count": 3,
   "id": "67e2c22b-753b-4131-bd97-69dedc71cc75",
   "metadata": {},
   "outputs": [],
   "source": [
    "URL = \"https://www.youtube.com/watch?v=VMMAmNte-b4\"\n",
    "encoder = 'wav'"
   ]
  },
  {
   "cell_type": "code",
   "execution_count": 5,
   "id": "a669312b-8305-4d6c-9aeb-886c3da7d194",
   "metadata": {},
   "outputs": [],
   "source": [
    "title = get_video(URL)"
   ]
  },
  {
   "cell_type": "code",
   "execution_count": 6,
   "id": "64521589-3e75-468e-a9ba-1cb70cda7923",
   "metadata": {},
   "outputs": [
    {
     "data": {
      "text/plain": [
       "'Che_si_pu_fare_-_Barbara_Strozzi_(16191677)_-_Mnestrel'"
      ]
     },
     "execution_count": 6,
     "metadata": {},
     "output_type": "execute_result"
    }
   ],
   "source": [
    "title"
   ]
  },
  {
   "cell_type": "code",
   "execution_count": 7,
   "id": "ce0b6cb5-4122-4bad-beab-a1c318c1b052",
   "metadata": {},
   "outputs": [],
   "source": [
    "import os\n",
    "import ffmpeg\n",
    "import string"
   ]
  },
  {
   "cell_type": "code",
   "execution_count": 8,
   "id": "c953f10e-8672-40c4-9e67-e2fdf55ad049",
   "metadata": {},
   "outputs": [],
   "source": [
    "VIDEOS_URL = 'videos_from_yt'\n",
    "AUDIOS_URL = 'audios_from_yt'\n",
    "\n",
    "def convert_video_to_audio(title, encoder):\n",
    "    stream = ffmpeg.input(f\"{VIDEOS_URL}/{title}\")\n",
    "    stream = ffmpeg.output(stream, f\"{AUDIOS_URL}/{title}.{encoder}\")\n",
    "    ffmpeg.run(stream)\n",
    "    os.remove(os.path.join(VIDEOS_URL,title))"
   ]
  },
  {
   "cell_type": "code",
   "execution_count": 9,
   "id": "cbc8026a-f9b4-4a4f-b0fe-d9fd0f295f7b",
   "metadata": {},
   "outputs": [],
   "source": [
    "convert_video_to_audio(title, 'wav')\n",
    "print('AUDIO READY AT audios_from_youtube FOLDER')"
   ]
  },
  {
   "cell_type": "code",
   "execution_count": null,
   "id": "efad80b6-af20-44be-afaa-50916dba31e5",
   "metadata": {},
   "outputs": [],
   "source": []
  }
 ],
 "metadata": {
  "kernelspec": {
   "display_name": "audios",
   "language": "python",
   "name": "audios"
  },
  "language_info": {
   "codemirror_mode": {
    "name": "ipython",
    "version": 3
   },
   "file_extension": ".py",
   "mimetype": "text/x-python",
   "name": "python",
   "nbconvert_exporter": "python",
   "pygments_lexer": "ipython3",
   "version": "3.10.14"
  }
 },
 "nbformat": 4,
 "nbformat_minor": 5
}
